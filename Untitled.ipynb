{
 "cells": [
  {
   "cell_type": "code",
   "execution_count": 2,
   "metadata": {},
   "outputs": [],
   "source": [
    "import spacy\n",
    "from nltk import Tree\n",
    "def to_nltk_tree(node):\n",
    "    if node.n_lefts + node.n_rights > 0:\n",
    "        return Tree(node.orth_, [to_nltk_tree(child) for child in node.children])\n",
    "    else:\n",
    "        return node.orth_\n",
    "    \n",
    "nlp = spacy.load('en_core_web_sm')"
   ]
  },
  {
   "cell_type": "code",
   "execution_count": 5,
   "metadata": {},
   "outputs": [
    {
     "name": "stdout",
     "output_type": "stream",
     "text": [
      "                                                           said                                                                       \n",
      "  __________________________________________________________|________________________________________________                          \n",
      " |                                     Kustomer                                                              |                        \n",
      " |    ____________________________________|_______                                                           |                         \n",
      " |   |   |                                      raised                                                       |                        \n",
      " |   |   |     ___________________________________|___________________                                       |                         \n",
      " |   |   |    |    |   |          |                                 valued                               disclosing                   \n",
      " |   |   |    |    |   |          |                      _____________|_______                     __________|______________           \n",
      " |   |   |    |    |   |          |                     |   |                 at                  |   |      |            terms       \n",
      " |   |   |    |    |   |          |                     |   |                 |                   |   |      |        ______|______    \n",
      " |   |   |    |    |   |          |                     |   |              million                |   |      |       |      |      of \n",
      " |   |   |    |    |   |          |                     |   |     ____________|____________       |   |      |       |      |      |   \n",
      " |   |   |    |    |   |       million                  |   |    |    |       |     |     per     |   |      |       |      |     deal\n",
      " |   |   |    |    |   |    ______|_______________      |   |    |    |       |     |      |      |   |      |       |      |      |   \n",
      " .   ,   ,  which has and more   than     $      170    is now   $   710      (     )  PitchBook  it  is    not     the financial the \n",
      "\n"
     ]
    },
    {
     "data": {
      "text/plain": [
       "[None]"
      ]
     },
     "execution_count": 5,
     "metadata": {},
     "output_type": "execute_result"
    }
   ],
   "source": [
    "doc = nlp(\"\"\"Kustomer, which has raised more than $170 million and is now valued at $710 million (per PitchBook), said it is not disclosing the financial terms of the deal.\"\"\")\n",
    "[to_nltk_tree(sent.root).pretty_print() for sent in doc.sents]"
   ]
  },
  {
   "cell_type": "code",
   "execution_count": null,
   "metadata": {},
   "outputs": [],
   "source": []
  }
 ],
 "metadata": {
  "kernelspec": {
   "display_name": "Python 3",
   "language": "python",
   "name": "python3"
  },
  "language_info": {
   "codemirror_mode": {
    "name": "ipython",
    "version": 3
   },
   "file_extension": ".py",
   "mimetype": "text/x-python",
   "name": "python",
   "nbconvert_exporter": "python",
   "pygments_lexer": "ipython3",
   "version": "3.7.7"
  }
 },
 "nbformat": 4,
 "nbformat_minor": 4
}
